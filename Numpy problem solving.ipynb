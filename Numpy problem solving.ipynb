{
 "cells": [
  {
   "cell_type": "markdown",
   "id": "35e8085e",
   "metadata": {},
   "source": [
    "# Write a function that takes in a NumPy array as input and returns the sum of all the elements in the array."
   ]
  },
  {
   "cell_type": "code",
   "execution_count": 1,
   "id": "010d6dfb",
   "metadata": {},
   "outputs": [
    {
     "name": "stdout",
     "output_type": "stream",
     "text": [
      "15\n"
     ]
    }
   ],
   "source": [
    "import numpy as np\n",
    "\n",
    "def array_sum(arr):\n",
    "    return np.sum(arr)\n",
    "\n",
    "# Test case\n",
    "arr = np.array([1, 2, 3, 4, 5])\n",
    "print(array_sum(arr))  # Output: 15\n"
   ]
  },
  {
   "cell_type": "markdown",
   "id": "8153d5e0",
   "metadata": {},
   "source": [
    "# Write a function that takes in a NumPy array as input and returns both the maximum value in the array and its corresponding index."
   ]
  },
  {
   "cell_type": "code",
   "execution_count": 2,
   "id": "df5c823a",
   "metadata": {},
   "outputs": [
    {
     "name": "stdout",
     "output_type": "stream",
     "text": [
      "Maximum Value: 9\n",
      "Index of Maximum Value: 2\n"
     ]
    }
   ],
   "source": [
    "import numpy as np\n",
    "\n",
    "def max_value_and_index(arr):\n",
    "    max_val = np.max(arr)\n",
    "    max_index = np.argmax(arr)\n",
    "    return max_val, max_index\n",
    "\n",
    "# Test case\n",
    "arr = np.array([5, 2, 9, 1, 7])\n",
    "max_val, max_index = max_value_and_index(arr)\n",
    "print(\"Maximum Value:\", max_val)    # Output: 9\n",
    "print(\"Index of Maximum Value:\", max_index)   #\n"
   ]
  },
  {
   "cell_type": "markdown",
   "id": "b25eb2a5",
   "metadata": {},
   "source": [
    "# Write a function that takes in two NumPy arrays representing matrices as input and returns their matrix product.\n",
    "\n"
   ]
  },
  {
   "cell_type": "code",
   "execution_count": 3,
   "id": "cda73922",
   "metadata": {},
   "outputs": [
    {
     "name": "stdout",
     "output_type": "stream",
     "text": [
      "[[19 22]\n",
      " [43 50]]\n"
     ]
    }
   ],
   "source": [
    "import numpy as np\n",
    "\n",
    "def matrix_multiplication(mat1, mat2):\n",
    "    return np.dot(mat1, mat2)\n",
    "\n",
    "# Test case\n",
    "mat1 = np.array([[1, 2], [3, 4]])\n",
    "mat2 = np.array([[5, 6], [7, 8]])\n",
    "result = matrix_multiplication(mat1, mat2)\n",
    "print(result)\n",
    "\n"
   ]
  },
  {
   "cell_type": "code",
   "execution_count": null,
   "id": "4b0d72b4",
   "metadata": {},
   "outputs": [],
   "source": []
  }
 ],
 "metadata": {
  "kernelspec": {
   "display_name": "Python 3 (ipykernel)",
   "language": "python",
   "name": "python3"
  },
  "language_info": {
   "codemirror_mode": {
    "name": "ipython",
    "version": 3
   },
   "file_extension": ".py",
   "mimetype": "text/x-python",
   "name": "python",
   "nbconvert_exporter": "python",
   "pygments_lexer": "ipython3",
   "version": "3.9.7"
  }
 },
 "nbformat": 4,
 "nbformat_minor": 5
}
